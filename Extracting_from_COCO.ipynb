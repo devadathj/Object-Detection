{
 "cells": [
  {
   "cell_type": "code",
   "execution_count": 1,
   "id": "ee759bd0",
   "metadata": {},
   "outputs": [],
   "source": [
    "from pycocotools.coco import COCO\n",
    "import numpy as np\n",
    "import skimage.io as io\n",
    "import matplotlib.pyplot as plt\n",
    "import urllib.request"
   ]
  },
  {
   "cell_type": "code",
   "execution_count": 2,
   "id": "ebc3da4d",
   "metadata": {},
   "outputs": [
    {
     "name": "stdout",
     "output_type": "stream",
     "text": [
      "loading annotations into memory...\n",
      "Done (t=66.05s)\n",
      "creating index...\n",
      "index created!\n"
     ]
    }
   ],
   "source": [
    "# instantiate COCO specifying the annotations json path\n",
    "coco = COCO(r\"C:\\Users\\Devadath\\PhotoGAUGE\\Annotations\\Normal\\instances_train2017.json\")"
   ]
  },
  {
   "cell_type": "code",
   "execution_count": 7,
   "id": "95a10b2c",
   "metadata": {},
   "outputs": [],
   "source": [
    "categIDs = ['dog','cat','elephant']\n",
    "noims = 50 #No. of images needed to be downloaded\n",
    "\n",
    "j = 1\n",
    "reqidsx = list()\n",
    "reqidsy = list()\n",
    "for id in categIDs:\n",
    "    catIds = coco.getCatIds(catNms = id);\n",
    "    imgIds = coco.getImgIds(catIds = catIds);\n",
    "    imgIds = coco.loadImgs(imgIds)\n",
    "    imgIds = imgIds[0:noims]\n",
    "    \n",
    "    for i in range(len(imgIds)):\n",
    "        annIds = coco.getAnnIds(imgIds = imgIds[i]['id'], catIds = catIds, iscrowd = None)\n",
    "        anns = coco.loadAnns(annIds)\n",
    "    \n",
    "        urllib.request.urlretrieve(imgIds[i]['coco_url'], \"%d.jpg\"%j) #Image output in .jpg\n",
    "        imghei = imgIds[i]['height']\n",
    "        imgwid = imgIds[i]['width']\n",
    "        \n",
    "        f = open('%d.txt'%j,'w') #Annotations output in .txt \n",
    "        for k in anns:\n",
    "            if j <= noims: p = 0\n",
    "            elif j > 2*noims: p = 2\n",
    "            else: p = 1\n",
    "            f.write(\"%d %s %s %s %s \\n\"%(p, round((k['bbox'][0] + (k['bbox'][2]/2))/imgwid, 2), round((k['bbox'][1] + (k['bbox'][3]/2))/imghei, 2), round(k['bbox'][2]/imgwid, 2), round(k['bbox'][3]/imghei, 2)))\n",
    "        f.close()\n",
    "    \n",
    "        j = j + 1"
   ]
  }
 ],
 "metadata": {
  "kernelspec": {
   "display_name": "Python 3 (ipykernel)",
   "language": "python",
   "name": "python3"
  },
  "language_info": {
   "codemirror_mode": {
    "name": "ipython",
    "version": 3
   },
   "file_extension": ".py",
   "mimetype": "text/x-python",
   "name": "python",
   "nbconvert_exporter": "python",
   "pygments_lexer": "ipython3",
   "version": "3.8.12"
  }
 },
 "nbformat": 4,
 "nbformat_minor": 5
}
